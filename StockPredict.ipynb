{
 "cells": [
  {
   "cell_type": "markdown",
   "metadata": {},
   "source": [
    "### Them cac thu vien can thiet"
   ]
  },
  {
   "cell_type": "code",
   "execution_count": 1,
   "metadata": {},
   "outputs": [],
   "source": [
    "from pyspark import SparkConf, SparkContext\n",
    "from pyspark.sql.session import SparkSession\n",
    "import pyspark.sql.functions as f\n",
    "from pyspark.sql.types import StructField, StructType, DoubleType, StringType, LongType\n",
    "from pyspark.sql.functions import desc, asc, year\n",
    "from keras import models, layers\n",
    "from sklearn.preprocessing import MinMaxScaler\n",
    "from keras.models import Sequential\n",
    "from keras.layers import Dense\n",
    "from keras.layers import LSTM\n",
    "from keras.layers import Dropout\n",
    "from sklearn.metrics import mean_squared_error\n",
    "import matplotlib.pyplot as plt\n",
    "import pandas as pd\n",
    "import numpy as np"
   ]
  },
  {
   "cell_type": "markdown",
   "metadata": {},
   "source": [
    "### Khoi tao Spark session"
   ]
  },
  {
   "cell_type": "code",
   "execution_count": 2,
   "metadata": {},
   "outputs": [],
   "source": [
    "conf = SparkConf().setMaster(\"local\") \\\n",
    "        .setAppName(\"StockPrediction\")\n",
    "\n",
    "spark = SparkSession \\\n",
    "        .builder \\\n",
    "        .config(conf=conf) \\\n",
    "        .getOrCreate()\n",
    "\n",
    "spark.sparkContext.setLogLevel(\"WARN\")"
   ]
  },
  {
   "cell_type": "markdown",
   "metadata": {},
   "source": [
    "### Nap du lieu vao va loai bo cac truong bi null"
   ]
  },
  {
   "cell_type": "code",
   "execution_count": 3,
   "metadata": {},
   "outputs": [],
   "source": [
    "df = spark.read.format(\"json\") \\\n",
    "        .option(\"header\", \"false\") \\\n",
    "        .option(\"inferSchema\", \"true\") \\\n",
    "        .load(\"./TSLA.json\").na.drop()"
   ]
  },
  {
   "cell_type": "code",
   "execution_count": 4,
   "metadata": {},
   "outputs": [
    {
     "name": "stdout",
     "output_type": "stream",
     "text": [
      "root\n",
      " |-- close: double (nullable = true)\n",
      " |-- high: double (nullable = true)\n",
      " |-- low: double (nullable = true)\n",
      " |-- open: double (nullable = true)\n",
      " |-- time: string (nullable = true)\n",
      " |-- volume: long (nullable = true)\n",
      "\n"
     ]
    }
   ],
   "source": [
    "df.printSchema()"
   ]
  },
  {
   "cell_type": "markdown",
   "metadata": {},
   "source": [
    "### Tach bo du lieu thanh 2 tap train va test"
   ]
  },
  {
   "cell_type": "code",
   "execution_count": 5,
   "metadata": {},
   "outputs": [],
   "source": [
    "df = df.withColumn('time', f.to_date('time'))\n",
    "df = df.withColumn('year', year(\"time\"))"
   ]
  },
  {
   "cell_type": "code",
   "execution_count": 6,
   "metadata": {},
   "outputs": [],
   "source": [
    "training_set = df.select(\"time\", \"open\").where(df[\"year\"] < 2020)"
   ]
  },
  {
   "cell_type": "code",
   "execution_count": 7,
   "metadata": {},
   "outputs": [],
   "source": [
    "test_set = df.select(\"time\", \"open\").where(df[\"year\"] >=  2020)"
   ]
  },
  {
   "cell_type": "code",
   "execution_count": 8,
   "metadata": {},
   "outputs": [],
   "source": [
    "df1 = df.toPandas()"
   ]
  },
  {
   "cell_type": "code",
   "execution_count": 9,
   "metadata": {},
   "outputs": [
    {
     "data": {
      "text/html": [
       "<div>\n",
       "<style scoped>\n",
       "    .dataframe tbody tr th:only-of-type {\n",
       "        vertical-align: middle;\n",
       "    }\n",
       "\n",
       "    .dataframe tbody tr th {\n",
       "        vertical-align: top;\n",
       "    }\n",
       "\n",
       "    .dataframe thead th {\n",
       "        text-align: right;\n",
       "    }\n",
       "</style>\n",
       "<table border=\"1\" class=\"dataframe\">\n",
       "  <thead>\n",
       "    <tr style=\"text-align: right;\">\n",
       "      <th></th>\n",
       "      <th>close</th>\n",
       "      <th>high</th>\n",
       "      <th>low</th>\n",
       "      <th>open</th>\n",
       "      <th>time</th>\n",
       "      <th>volume</th>\n",
       "      <th>year</th>\n",
       "    </tr>\n",
       "  </thead>\n",
       "  <tbody>\n",
       "    <tr>\n",
       "      <th>0</th>\n",
       "      <td>61.709999</td>\n",
       "      <td>62.759998</td>\n",
       "      <td>61.549999</td>\n",
       "      <td>62.230000</td>\n",
       "      <td>2015-12-28</td>\n",
       "      <td>782216</td>\n",
       "      <td>2015</td>\n",
       "    </tr>\n",
       "    <tr>\n",
       "      <th>1</th>\n",
       "      <td>63.049999</td>\n",
       "      <td>63.540001</td>\n",
       "      <td>62.279999</td>\n",
       "      <td>62.400002</td>\n",
       "      <td>2015-12-29</td>\n",
       "      <td>1417901</td>\n",
       "      <td>2015</td>\n",
       "    </tr>\n",
       "    <tr>\n",
       "      <th>2</th>\n",
       "      <td>62.580002</td>\n",
       "      <td>63.130001</td>\n",
       "      <td>62.299999</td>\n",
       "      <td>62.740002</td>\n",
       "      <td>2015-12-30</td>\n",
       "      <td>1178738</td>\n",
       "      <td>2015</td>\n",
       "    </tr>\n",
       "    <tr>\n",
       "      <th>3</th>\n",
       "      <td>60.860001</td>\n",
       "      <td>61.869999</td>\n",
       "      <td>60.160000</td>\n",
       "      <td>61.150002</td>\n",
       "      <td>2016-01-04</td>\n",
       "      <td>2885672</td>\n",
       "      <td>2016</td>\n",
       "    </tr>\n",
       "    <tr>\n",
       "      <th>4</th>\n",
       "      <td>62.090000</td>\n",
       "      <td>62.310001</td>\n",
       "      <td>60.610001</td>\n",
       "      <td>61.880001</td>\n",
       "      <td>2016-01-05</td>\n",
       "      <td>3154541</td>\n",
       "      <td>2016</td>\n",
       "    </tr>\n",
       "    <tr>\n",
       "      <th>...</th>\n",
       "      <td>...</td>\n",
       "      <td>...</td>\n",
       "      <td>...</td>\n",
       "      <td>...</td>\n",
       "      <td>...</td>\n",
       "      <td>...</td>\n",
       "      <td>...</td>\n",
       "    </tr>\n",
       "    <tr>\n",
       "      <th>1272</th>\n",
       "      <td>89.000000</td>\n",
       "      <td>90.900002</td>\n",
       "      <td>88.940002</td>\n",
       "      <td>89.620003</td>\n",
       "      <td>2020-12-18</td>\n",
       "      <td>3297694</td>\n",
       "      <td>2020</td>\n",
       "    </tr>\n",
       "    <tr>\n",
       "      <th>1273</th>\n",
       "      <td>86.540001</td>\n",
       "      <td>86.959999</td>\n",
       "      <td>82.750000</td>\n",
       "      <td>85.000000</td>\n",
       "      <td>2020-12-21</td>\n",
       "      <td>3398767</td>\n",
       "      <td>2020</td>\n",
       "    </tr>\n",
       "    <tr>\n",
       "      <th>1274</th>\n",
       "      <td>87.940002</td>\n",
       "      <td>88.000000</td>\n",
       "      <td>85.510002</td>\n",
       "      <td>87.370003</td>\n",
       "      <td>2020-12-22</td>\n",
       "      <td>1691985</td>\n",
       "      <td>2020</td>\n",
       "    </tr>\n",
       "    <tr>\n",
       "      <th>1275</th>\n",
       "      <td>91.949997</td>\n",
       "      <td>92.089996</td>\n",
       "      <td>87.620003</td>\n",
       "      <td>88.000000</td>\n",
       "      <td>2020-12-23</td>\n",
       "      <td>1561928</td>\n",
       "      <td>2020</td>\n",
       "    </tr>\n",
       "    <tr>\n",
       "      <th>1276</th>\n",
       "      <td>92.040001</td>\n",
       "      <td>93.059998</td>\n",
       "      <td>91.529999</td>\n",
       "      <td>92.440002</td>\n",
       "      <td>2020-12-24</td>\n",
       "      <td>352865</td>\n",
       "      <td>2020</td>\n",
       "    </tr>\n",
       "  </tbody>\n",
       "</table>\n",
       "<p>1277 rows × 7 columns</p>\n",
       "</div>"
      ],
      "text/plain": [
       "          close       high        low       open        time   volume  year\n",
       "0     61.709999  62.759998  61.549999  62.230000  2015-12-28   782216  2015\n",
       "1     63.049999  63.540001  62.279999  62.400002  2015-12-29  1417901  2015\n",
       "2     62.580002  63.130001  62.299999  62.740002  2015-12-30  1178738  2015\n",
       "3     60.860001  61.869999  60.160000  61.150002  2016-01-04  2885672  2016\n",
       "4     62.090000  62.310001  60.610001  61.880001  2016-01-05  3154541  2016\n",
       "...         ...        ...        ...        ...         ...      ...   ...\n",
       "1272  89.000000  90.900002  88.940002  89.620003  2020-12-18  3297694  2020\n",
       "1273  86.540001  86.959999  82.750000  85.000000  2020-12-21  3398767  2020\n",
       "1274  87.940002  88.000000  85.510002  87.370003  2020-12-22  1691985  2020\n",
       "1275  91.949997  92.089996  87.620003  88.000000  2020-12-23  1561928  2020\n",
       "1276  92.040001  93.059998  91.529999  92.440002  2020-12-24   352865  2020\n",
       "\n",
       "[1277 rows x 7 columns]"
      ]
     },
     "execution_count": 9,
     "metadata": {},
     "output_type": "execute_result"
    }
   ],
   "source": [
    "df1"
   ]
  },
  {
   "cell_type": "code",
   "execution_count": 10,
   "metadata": {},
   "outputs": [],
   "source": [
    "training_set = training_set.toPandas().values[:,1]"
   ]
  },
  {
   "cell_type": "code",
   "execution_count": 11,
   "metadata": {},
   "outputs": [],
   "source": [
    "test_set = test_set.toPandas().values[:,1]"
   ]
  },
  {
   "cell_type": "code",
   "execution_count": 12,
   "metadata": {},
   "outputs": [],
   "source": [
    "open_price = df.select(\"time\", \"open\").toPandas().values[:,1]"
   ]
  },
  {
   "cell_type": "markdown",
   "metadata": {},
   "source": [
    "### Xay dung mo hinh du doan bang LSTM"
   ]
  },
  {
   "cell_type": "code",
   "execution_count": 13,
   "metadata": {},
   "outputs": [],
   "source": [
    "scale = MinMaxScaler()"
   ]
  },
  {
   "cell_type": "code",
   "execution_count": 14,
   "metadata": {},
   "outputs": [],
   "source": [
    "training_set_scaled = scale.fit_transform(open_price.reshape(-1, 1))\n",
    "LOOKBACK = 24\n",
    "X_train = []\n",
    "y_train = []\n",
    "for i in range(LOOKBACK, training_set.shape[0]):\n",
    "    X_train.append(training_set_scaled[i-LOOKBACK:i, 0])\n",
    "    y_train.append(training_set_scaled[i, 0])\n",
    "X_train, y_train = np.array(X_train), np.array(y_train)\n",
    "X_train = np.reshape(X_train, (X_train.shape[0], X_train.shape[1], 1))"
   ]
  },
  {
   "cell_type": "code",
   "execution_count": 15,
   "metadata": {},
   "outputs": [
    {
     "name": "stdout",
     "output_type": "stream",
     "text": [
      "Epoch 1/100\n",
      "32/32 [==============================] - 2s 66ms/step - loss: 0.3230 - accuracy: 9.9800e-04\n",
      "Epoch 2/100\n",
      "32/32 [==============================] - 2s 57ms/step - loss: 0.1199 - accuracy: 9.9800e-04\n",
      "Epoch 3/100\n",
      "32/32 [==============================] - 2s 58ms/step - loss: 0.0808 - accuracy: 9.9800e-04\n",
      "Epoch 4/100\n",
      "32/32 [==============================] - 2s 56ms/step - loss: 0.0778 - accuracy: 9.9800e-04\n",
      "Epoch 5/100\n",
      "32/32 [==============================] - 2s 59ms/step - loss: 0.0716 - accuracy: 9.9800e-04\n",
      "Epoch 6/100\n",
      "32/32 [==============================] - 2s 58ms/step - loss: 0.0695 - accuracy: 9.9800e-04\n",
      "Epoch 7/100\n",
      "32/32 [==============================] - 2s 59ms/step - loss: 0.0624 - accuracy: 9.9800e-04\n",
      "Epoch 8/100\n",
      "32/32 [==============================] - 2s 67ms/step - loss: 0.0613 - accuracy: 9.9800e-04\n",
      "Epoch 9/100\n",
      "32/32 [==============================] - 2s 58ms/step - loss: 0.0651 - accuracy: 9.9800e-04\n",
      "Epoch 10/100\n",
      "32/32 [==============================] - 2s 62ms/step - loss: 0.0603 - accuracy: 9.9800e-04\n",
      "Epoch 11/100\n",
      "32/32 [==============================] - 2s 67ms/step - loss: 0.0599 - accuracy: 9.9800e-04\n",
      "Epoch 12/100\n",
      "32/32 [==============================] - 2s 69ms/step - loss: 0.0573 - accuracy: 9.9800e-04\n",
      "Epoch 13/100\n",
      "32/32 [==============================] - 2s 74ms/step - loss: 0.0576 - accuracy: 9.9800e-04\n",
      "Epoch 14/100\n",
      "32/32 [==============================] - 3s 81ms/step - loss: 0.0551 - accuracy: 9.9800e-04\n",
      "Epoch 15/100\n",
      "32/32 [==============================] - 2s 70ms/step - loss: 0.0559 - accuracy: 9.9800e-04\n",
      "Epoch 16/100\n",
      "32/32 [==============================] - 2s 68ms/step - loss: 0.0551 - accuracy: 9.9800e-04\n",
      "Epoch 17/100\n",
      "32/32 [==============================] - 2s 73ms/step - loss: 0.0551 - accuracy: 9.9800e-04\n",
      "Epoch 18/100\n",
      "32/32 [==============================] - 2s 73ms/step - loss: 0.0535 - accuracy: 9.9800e-04\n",
      "Epoch 19/100\n",
      "32/32 [==============================] - 2s 67ms/step - loss: 0.0516 - accuracy: 9.9800e-04\n",
      "Epoch 20/100\n",
      "32/32 [==============================] - 2s 68ms/step - loss: 0.0514 - accuracy: 9.9800e-04\n",
      "Epoch 21/100\n",
      "32/32 [==============================] - 2s 65ms/step - loss: 0.0491 - accuracy: 9.9800e-04\n",
      "Epoch 22/100\n",
      "32/32 [==============================] - 2s 65ms/step - loss: 0.0484 - accuracy: 9.9800e-04\n",
      "Epoch 23/100\n",
      "32/32 [==============================] - 2s 67ms/step - loss: 0.0493 - accuracy: 9.9800e-04\n",
      "Epoch 24/100\n",
      "32/32 [==============================] - 2s 73ms/step - loss: 0.0507 - accuracy: 9.9800e-04\n",
      "Epoch 25/100\n",
      "32/32 [==============================] - 2s 70ms/step - loss: 0.0475 - accuracy: 9.9800e-04\n",
      "Epoch 26/100\n",
      "32/32 [==============================] - 2s 76ms/step - loss: 0.0497 - accuracy: 9.9800e-04\n",
      "Epoch 27/100\n",
      "32/32 [==============================] - 2s 67ms/step - loss: 0.0485 - accuracy: 9.9800e-04\n",
      "Epoch 28/100\n",
      "32/32 [==============================] - 2s 68ms/step - loss: 0.0444 - accuracy: 9.9800e-04\n",
      "Epoch 29/100\n",
      "32/32 [==============================] - 2s 67ms/step - loss: 0.0465 - accuracy: 9.9800e-04\n",
      "Epoch 30/100\n",
      "32/32 [==============================] - 2s 78ms/step - loss: 0.0469 - accuracy: 9.9800e-04\n",
      "Epoch 31/100\n",
      "32/32 [==============================] - 2s 73ms/step - loss: 0.0476 - accuracy: 9.9800e-04\n",
      "Epoch 32/100\n",
      "32/32 [==============================] - 2s 65ms/step - loss: 0.0452 - accuracy: 9.9800e-04\n",
      "Epoch 33/100\n",
      "32/32 [==============================] - 3s 86ms/step - loss: 0.0449 - accuracy: 9.9800e-04\n",
      "Epoch 34/100\n",
      "32/32 [==============================] - 2s 71ms/step - loss: 0.0460 - accuracy: 9.9800e-04\n",
      "Epoch 35/100\n",
      "32/32 [==============================] - 2s 74ms/step - loss: 0.0434 - accuracy: 9.9800e-04\n",
      "Epoch 36/100\n",
      "32/32 [==============================] - 2s 75ms/step - loss: 0.0450 - accuracy: 9.9800e-04\n",
      "Epoch 37/100\n",
      "32/32 [==============================] - 2s 74ms/step - loss: 0.0455 - accuracy: 9.9800e-04\n",
      "Epoch 38/100\n",
      "32/32 [==============================] - 3s 83ms/step - loss: 0.0484 - accuracy: 9.9800e-04\n",
      "Epoch 39/100\n",
      "32/32 [==============================] - 2s 77ms/step - loss: 0.0427 - accuracy: 9.9800e-04\n",
      "Epoch 40/100\n",
      "32/32 [==============================] - 2s 72ms/step - loss: 0.0444 - accuracy: 9.9800e-04\n",
      "Epoch 41/100\n",
      "32/32 [==============================] - 3s 84ms/step - loss: 0.0435 - accuracy: 9.9800e-04\n",
      "Epoch 42/100\n",
      "32/32 [==============================] - 2s 68ms/step - loss: 0.0424 - accuracy: 9.9800e-04\n",
      "Epoch 43/100\n",
      "32/32 [==============================] - 2s 66ms/step - loss: 0.0440 - accuracy: 9.9800e-04\n",
      "Epoch 44/100\n",
      "32/32 [==============================] - 2s 63ms/step - loss: 0.0433 - accuracy: 9.9800e-04\n",
      "Epoch 45/100\n",
      "32/32 [==============================] - 2s 66ms/step - loss: 0.0436 - accuracy: 9.9800e-04\n",
      "Epoch 46/100\n",
      "32/32 [==============================] - 2s 63ms/step - loss: 0.0421 - accuracy: 9.9800e-04\n",
      "Epoch 47/100\n",
      "32/32 [==============================] - 2s 75ms/step - loss: 0.0425 - accuracy: 9.9800e-04\n",
      "Epoch 48/100\n",
      "32/32 [==============================] - 2s 63ms/step - loss: 0.0435 - accuracy: 9.9800e-04\n",
      "Epoch 49/100\n",
      "32/32 [==============================] - 2s 64ms/step - loss: 0.0413 - accuracy: 9.9800e-04\n",
      "Epoch 50/100\n",
      "32/32 [==============================] - 2s 77ms/step - loss: 0.0403 - accuracy: 9.9800e-04\n",
      "Epoch 51/100\n",
      "32/32 [==============================] - 2s 71ms/step - loss: 0.0415 - accuracy: 9.9800e-04\n",
      "Epoch 52/100\n",
      "32/32 [==============================] - 2s 69ms/step - loss: 0.0413 - accuracy: 9.9800e-04\n",
      "Epoch 53/100\n",
      "32/32 [==============================] - 2s 66ms/step - loss: 0.0407 - accuracy: 9.9800e-04\n",
      "Epoch 54/100\n",
      "32/32 [==============================] - 2s 59ms/step - loss: 0.0398 - accuracy: 9.9800e-04\n",
      "Epoch 55/100\n",
      "32/32 [==============================] - 2s 69ms/step - loss: 0.0396 - accuracy: 9.9800e-04\n",
      "Epoch 56/100\n",
      "32/32 [==============================] - 2s 75ms/step - loss: 0.0403 - accuracy: 9.9800e-04\n",
      "Epoch 57/100\n",
      "32/32 [==============================] - 2s 69ms/step - loss: 0.0376 - accuracy: 9.9800e-04\n",
      "Epoch 58/100\n",
      "32/32 [==============================] - 2s 64ms/step - loss: 0.0406 - accuracy: 9.9800e-04\n",
      "Epoch 59/100\n",
      "32/32 [==============================] - 2s 61ms/step - loss: 0.0398 - accuracy: 9.9800e-04\n",
      "Epoch 60/100\n",
      "32/32 [==============================] - 2s 65ms/step - loss: 0.0432 - accuracy: 9.9800e-04\n",
      "Epoch 61/100\n",
      "32/32 [==============================] - 2s 69ms/step - loss: 0.0385 - accuracy: 9.9800e-04\n",
      "Epoch 62/100\n",
      "32/32 [==============================] - 2s 63ms/step - loss: 0.0401 - accuracy: 9.9800e-04\n",
      "Epoch 63/100\n",
      "32/32 [==============================] - 2s 67ms/step - loss: 0.0391 - accuracy: 9.9800e-04\n",
      "Epoch 64/100\n",
      "32/32 [==============================] - 2s 63ms/step - loss: 0.0394 - accuracy: 9.9800e-04\n",
      "Epoch 65/100\n",
      "32/32 [==============================] - 2s 65ms/step - loss: 0.0361 - accuracy: 9.9800e-04\n",
      "Epoch 66/100\n",
      "32/32 [==============================] - 2s 62ms/step - loss: 0.0375 - accuracy: 9.9800e-04\n",
      "Epoch 67/100\n",
      "32/32 [==============================] - 2s 61ms/step - loss: 0.0388 - accuracy: 9.9800e-04\n",
      "Epoch 68/100\n",
      "32/32 [==============================] - 2s 65ms/step - loss: 0.0381 - accuracy: 9.9800e-04\n",
      "Epoch 69/100\n",
      "32/32 [==============================] - 2s 63ms/step - loss: 0.0397 - accuracy: 9.9800e-04\n",
      "Epoch 70/100\n",
      "32/32 [==============================] - 2s 65ms/step - loss: 0.0397 - accuracy: 9.9800e-04\n",
      "Epoch 71/100\n",
      "32/32 [==============================] - 3s 87ms/step - loss: 0.0387 - accuracy: 9.9800e-04\n",
      "Epoch 72/100\n",
      "32/32 [==============================] - 3s 78ms/step - loss: 0.0409 - accuracy: 9.9800e-04\n",
      "Epoch 73/100\n",
      "32/32 [==============================] - 3s 88ms/step - loss: 0.0385 - accuracy: 9.9800e-04\n",
      "Epoch 74/100\n",
      "32/32 [==============================] - 3s 93ms/step - loss: 0.0399 - accuracy: 9.9800e-04\n",
      "Epoch 75/100\n",
      "32/32 [==============================] - 2s 71ms/step - loss: 0.0382 - accuracy: 9.9800e-04\n",
      "Epoch 76/100\n",
      "32/32 [==============================] - 2s 68ms/step - loss: 0.0394 - accuracy: 9.9800e-04\n",
      "Epoch 77/100\n",
      "32/32 [==============================] - 3s 83ms/step - loss: 0.0370 - accuracy: 9.9800e-04\n",
      "Epoch 78/100\n",
      "32/32 [==============================] - 3s 82ms/step - loss: 0.0398 - accuracy: 9.9800e-04\n",
      "Epoch 79/100\n"
     ]
    },
    {
     "name": "stdout",
     "output_type": "stream",
     "text": [
      "32/32 [==============================] - 2s 64ms/step - loss: 0.0382 - accuracy: 9.9800e-04\n",
      "Epoch 80/100\n",
      "32/32 [==============================] - 2s 60ms/step - loss: 0.0383 - accuracy: 9.9800e-04\n",
      "Epoch 81/100\n",
      "32/32 [==============================] - 2s 70ms/step - loss: 0.0373 - accuracy: 9.9800e-04\n",
      "Epoch 82/100\n",
      "32/32 [==============================] - 2s 64ms/step - loss: 0.0381 - accuracy: 9.9800e-04\n",
      "Epoch 83/100\n",
      "32/32 [==============================] - 2s 65ms/step - loss: 0.0377 - accuracy: 9.9800e-04\n",
      "Epoch 84/100\n",
      "32/32 [==============================] - 2s 64ms/step - loss: 0.0386 - accuracy: 9.9800e-04\n",
      "Epoch 85/100\n",
      "32/32 [==============================] - 2s 63ms/step - loss: 0.0380 - accuracy: 9.9800e-04\n",
      "Epoch 86/100\n",
      "32/32 [==============================] - 2s 62ms/step - loss: 0.0381 - accuracy: 9.9800e-04\n",
      "Epoch 87/100\n",
      "32/32 [==============================] - 2s 63ms/step - loss: 0.0375 - accuracy: 9.9800e-04\n",
      "Epoch 88/100\n",
      "32/32 [==============================] - 2s 64ms/step - loss: 0.0374 - accuracy: 9.9800e-04\n",
      "Epoch 89/100\n",
      "32/32 [==============================] - 2s 66ms/step - loss: 0.0377 - accuracy: 9.9800e-04\n",
      "Epoch 90/100\n",
      "32/32 [==============================] - 2s 65ms/step - loss: 0.0386 - accuracy: 9.9800e-04\n",
      "Epoch 91/100\n",
      "32/32 [==============================] - 2s 67ms/step - loss: 0.0373 - accuracy: 9.9800e-04\n",
      "Epoch 92/100\n",
      "32/32 [==============================] - 2s 67ms/step - loss: 0.0378 - accuracy: 9.9800e-04\n",
      "Epoch 93/100\n",
      "32/32 [==============================] - 2s 68ms/step - loss: 0.0372 - accuracy: 9.9800e-04\n",
      "Epoch 94/100\n",
      "32/32 [==============================] - 2s 64ms/step - loss: 0.0357 - accuracy: 9.9800e-04\n",
      "Epoch 95/100\n",
      "32/32 [==============================] - 2s 75ms/step - loss: 0.0370 - accuracy: 9.9800e-04\n",
      "Epoch 96/100\n",
      "32/32 [==============================] - 2s 68ms/step - loss: 0.0380 - accuracy: 9.9800e-04\n",
      "Epoch 97/100\n",
      "32/32 [==============================] - 2s 66ms/step - loss: 0.0339 - accuracy: 9.9800e-04\n",
      "Epoch 98/100\n",
      "32/32 [==============================] - 2s 69ms/step - loss: 0.0373 - accuracy: 9.9800e-04\n",
      "Epoch 99/100\n",
      "32/32 [==============================] - 2s 78ms/step - loss: 0.0374 - accuracy: 9.9800e-04\n",
      "Epoch 100/100\n",
      "32/32 [==============================] - 2s 74ms/step - loss: 0.0364 - accuracy: 9.9800e-04\n"
     ]
    },
    {
     "data": {
      "text/plain": [
       "<tensorflow.python.keras.callbacks.History at 0x7f72402cd100>"
      ]
     },
     "execution_count": 15,
     "metadata": {},
     "output_type": "execute_result"
    }
   ],
   "source": [
    "model = Sequential()\n",
    "model.add(LSTM(units = 12, return_sequences = True, input_shape = (X_train.shape[1], 1)))\n",
    "model.add(Dropout(0.2))\n",
    "model.add(LSTM(units = 12, return_sequences = False))\n",
    "model.add(Dropout(0.2))\n",
    "model.add(Dense(units = 1))\n",
    "model.compile(loss='mean_absolute_error', optimizer='adam', metrics=['accuracy'])\n",
    "model.fit(X_train, y_train, epochs = 100, batch_size = 32)"
   ]
  },
  {
   "cell_type": "code",
   "execution_count": 16,
   "metadata": {},
   "outputs": [],
   "source": [
    "total_len = open_price.shape[0]\n",
    "actual_values = open_price[LOOKBACK:]\n",
    "inputs = open_price.reshape(-1,1)\n",
    "inputs = scale.transform(inputs)\n",
    "X_test = []\n",
    "for i in range(LOOKBACK, total_len):\n",
    "    X_test.append(inputs[i-LOOKBACK:i, 0])\n",
    "X_test = np.array(X_test)\n",
    "X_test = np.reshape(X_test, (X_test.shape[0], X_test.shape[1], 1))"
   ]
  },
  {
   "cell_type": "code",
   "execution_count": 17,
   "metadata": {},
   "outputs": [],
   "source": [
    "predicted_stock_price = model.predict(X_test)\n",
    "predicted_stock_price = scale.inverse_transform(predicted_stock_price)"
   ]
  },
  {
   "cell_type": "code",
   "execution_count": 18,
   "metadata": {},
   "outputs": [
    {
     "data": {
      "text/plain": [
       "array([[58.876266],\n",
       "       [59.08057 ],\n",
       "       [59.04069 ],\n",
       "       ...,\n",
       "       [91.05665 ],\n",
       "       [89.88813 ],\n",
       "       [89.11375 ]], dtype=float32)"
      ]
     },
     "execution_count": 18,
     "metadata": {},
     "output_type": "execute_result"
    }
   ],
   "source": [
    "predicted_stock_price"
   ]
  },
  {
   "cell_type": "code",
   "execution_count": 22,
   "metadata": {},
   "outputs": [],
   "source": [
    "pd.DataFrame(predicted_stock_price).to_csv(\"predict.csv\")"
   ]
  },
  {
   "cell_type": "code",
   "execution_count": 23,
   "metadata": {},
   "outputs": [],
   "source": [
    "spark.sparkContext.stop()"
   ]
  },
  {
   "cell_type": "code",
   "execution_count": null,
   "metadata": {},
   "outputs": [],
   "source": []
  }
 ],
 "metadata": {
  "kernelspec": {
   "display_name": "Python 3",
   "language": "python",
   "name": "python3"
  },
  "language_info": {
   "codemirror_mode": {
    "name": "ipython",
    "version": 3
   },
   "file_extension": ".py",
   "mimetype": "text/x-python",
   "name": "python",
   "nbconvert_exporter": "python",
   "pygments_lexer": "ipython3",
   "version": "3.8.3"
  }
 },
 "nbformat": 4,
 "nbformat_minor": 4
}
