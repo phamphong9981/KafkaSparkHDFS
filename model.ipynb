{
 "cells": [
  {
   "cell_type": "code",
   "execution_count": 1,
   "metadata": {},
   "outputs": [],
   "source": [
    "import matplotlib.pyplot as plt\n",
    "import pandas as pd\n",
    "import numpy as np\n",
    "from keras.models import Sequential\n",
    "from keras.layers import Dense\n",
    "from keras.layers import LSTM\n",
    "from keras.layers import Dropout\n",
    "from sklearn.preprocessing import MinMaxScaler\n",
    "from sklearn.metrics import mean_squared_error\n",
    "from keras.callbacks import EarlyStopping"
   ]
  },
  {
   "cell_type": "code",
   "execution_count": 2,
   "metadata": {},
   "outputs": [],
   "source": [
    "df = pd.read_csv(\"./AAPL.csv\")"
   ]
  },
  {
   "cell_type": "code",
   "execution_count": 3,
   "metadata": {},
   "outputs": [
    {
     "data": {
      "text/plain": [
       "Date          object\n",
       "Open         float64\n",
       "High         float64\n",
       "Low          float64\n",
       "Close        float64\n",
       "Adj Close    float64\n",
       "Volume         int64\n",
       "dtype: object"
      ]
     },
     "execution_count": 3,
     "metadata": {},
     "output_type": "execute_result"
    }
   ],
   "source": [
    "df.dtypes"
   ]
  },
  {
   "cell_type": "code",
   "execution_count": 4,
   "metadata": {},
   "outputs": [],
   "source": [
    "split = int(df.shape[0] * 0.7)"
   ]
  },
  {
   "cell_type": "code",
   "execution_count": 7,
   "metadata": {},
   "outputs": [
    {
     "data": {
      "text/plain": [
       "(2517, 7)"
      ]
     },
     "execution_count": 7,
     "metadata": {},
     "output_type": "execute_result"
    }
   ],
   "source": [
    "df.shape"
   ]
  },
  {
   "cell_type": "code",
   "execution_count": 8,
   "metadata": {},
   "outputs": [],
   "source": [
    "open_price = df.values[:, 1]"
   ]
  },
  {
   "cell_type": "code",
   "execution_count": 10,
   "metadata": {},
   "outputs": [],
   "source": [
    "training_set = open_price[:split]\n",
    "test_set = open_price[split:]"
   ]
  },
  {
   "cell_type": "code",
   "execution_count": 13,
   "metadata": {},
   "outputs": [],
   "source": [
    "sc = MinMaxScaler()\n",
    "training_set_scaled = sc.fit_transform(open_price.reshape(-1, 1))\n",
    "LOOKBACK = 24\n",
    "X_train = []\n",
    "y_train = []\n",
    "for i in range(LOOKBACK, training_set.shape[0]):\n",
    "    X_train.append(training_set_scaled[i-LOOKBACK:i, 0])\n",
    "    y_train.append(training_set_scaled[i, 0])\n",
    "X_train, y_train = np.array(X_train), np.array(y_train)\n",
    "X_train = np.reshape(X_train, (X_train.shape[0], X_train.shape[1], 1))\n"
   ]
  },
  {
   "cell_type": "code",
   "execution_count": 19,
   "metadata": {},
   "outputs": [
    {
     "name": "stdout",
     "output_type": "stream",
     "text": [
      "Epoch 1/100\n",
      "55/55 [==============================] - 3s 56ms/step - loss: 0.0379 - accuracy: 5.7571e-04\n",
      "Epoch 2/100\n",
      "55/55 [==============================] - 3s 60ms/step - loss: 0.0154 - accuracy: 5.7571e-04\n",
      "Epoch 3/100\n",
      "55/55 [==============================] - 4s 65ms/step - loss: 0.0135 - accuracy: 5.7571e-04\n",
      "Epoch 4/100\n",
      "55/55 [==============================] - 4s 73ms/step - loss: 0.0123 - accuracy: 5.7571e-04\n",
      "Epoch 5/100\n",
      "55/55 [==============================] - 4s 70ms/step - loss: 0.0115 - accuracy: 5.7571e-04\n",
      "Epoch 6/100\n",
      "55/55 [==============================] - 4s 72ms/step - loss: 0.0113 - accuracy: 5.7571e-04\n",
      "Epoch 7/100\n",
      "55/55 [==============================] - 3s 61ms/step - loss: 0.0107 - accuracy: 5.7571e-04\n",
      "Epoch 8/100\n",
      "55/55 [==============================] - 3s 62ms/step - loss: 0.0103 - accuracy: 5.7571e-04\n",
      "Epoch 9/100\n",
      "55/55 [==============================] - 3s 63ms/step - loss: 0.0101 - accuracy: 5.7571e-04\n",
      "Epoch 10/100\n",
      "55/55 [==============================] - 4s 67ms/step - loss: 0.0104 - accuracy: 5.7571e-04\n",
      "Epoch 11/100\n",
      "55/55 [==============================] - 4s 65ms/step - loss: 0.0096 - accuracy: 5.7571e-04\n",
      "Epoch 12/100\n",
      "55/55 [==============================] - 4s 65ms/step - loss: 0.0097 - accuracy: 5.7571e-04\n",
      "Epoch 13/100\n",
      "55/55 [==============================] - 3s 63ms/step - loss: 0.0097 - accuracy: 5.7571e-04\n",
      "Epoch 14/100\n",
      "55/55 [==============================] - 3s 61ms/step - loss: 0.0097 - accuracy: 5.7571e-04\n",
      "Epoch 15/100\n",
      "55/55 [==============================] - 4s 69ms/step - loss: 0.0092 - accuracy: 5.7571e-04\n",
      "Epoch 16/100\n",
      "55/55 [==============================] - 4s 82ms/step - loss: 0.0095 - accuracy: 5.7571e-04\n",
      "Epoch 17/100\n",
      "55/55 [==============================] - 5s 92ms/step - loss: 0.0092 - accuracy: 5.7571e-04\n",
      "Epoch 18/100\n",
      "55/55 [==============================] - 4s 68ms/step - loss: 0.0093 - accuracy: 5.7571e-04\n",
      "Epoch 19/100\n",
      "55/55 [==============================] - 5s 97ms/step - loss: 0.0093 - accuracy: 5.7571e-04\n",
      "Epoch 20/100\n",
      "55/55 [==============================] - 5s 91ms/step - loss: 0.0090 - accuracy: 5.7571e-04\n",
      "Epoch 21/100\n",
      "55/55 [==============================] - 5s 97ms/step - loss: 0.0088 - accuracy: 5.7571e-04\n",
      "Epoch 22/100\n",
      "55/55 [==============================] - 4s 78ms/step - loss: 0.0089 - accuracy: 5.7571e-04\n",
      "Epoch 23/100\n",
      "55/55 [==============================] - 4s 76ms/step - loss: 0.0090 - accuracy: 5.7571e-04\n",
      "Epoch 24/100\n",
      "55/55 [==============================] - 4s 75ms/step - loss: 0.0087 - accuracy: 5.7571e-04\n",
      "Epoch 25/100\n",
      "55/55 [==============================] - 4s 72ms/step - loss: 0.0089 - accuracy: 5.7571e-04\n",
      "Epoch 26/100\n",
      "55/55 [==============================] - 4s 78ms/step - loss: 0.0091 - accuracy: 5.7571e-04\n",
      "Epoch 27/100\n",
      "55/55 [==============================] - 4s 79ms/step - loss: 0.0088 - accuracy: 5.7571e-04\n",
      "Epoch 28/100\n",
      "55/55 [==============================] - 4s 80ms/step - loss: 0.0094 - accuracy: 5.7571e-04\n",
      "Epoch 29/100\n",
      "55/55 [==============================] - 5s 85ms/step - loss: 0.0089 - accuracy: 5.7571e-04\n",
      "Epoch 30/100\n",
      "55/55 [==============================] - 5s 84ms/step - loss: 0.0086 - accuracy: 5.7571e-04\n",
      "Epoch 31/100\n",
      "55/55 [==============================] - 4s 77ms/step - loss: 0.0088 - accuracy: 5.7571e-04\n",
      "Epoch 32/100\n",
      "55/55 [==============================] - 4s 80ms/step - loss: 0.0088 - accuracy: 5.7571e-04\n",
      "Epoch 33/100\n",
      "55/55 [==============================] - 5s 98ms/step - loss: 0.0085 - accuracy: 5.7571e-04\n",
      "Epoch 34/100\n",
      "55/55 [==============================] - 5s 90ms/step - loss: 0.0093 - accuracy: 5.7571e-04\n",
      "Epoch 35/100\n",
      "55/55 [==============================] - 4s 79ms/step - loss: 0.0085 - accuracy: 5.7571e-04\n",
      "Epoch 36/100\n",
      "55/55 [==============================] - 5s 88ms/step - loss: 0.0083 - accuracy: 5.7571e-04\n",
      "Epoch 37/100\n",
      "55/55 [==============================] - 5s 82ms/step - loss: 0.0084 - accuracy: 5.7571e-04\n",
      "Epoch 38/100\n",
      "55/55 [==============================] - 4s 81ms/step - loss: 0.0085 - accuracy: 5.7571e-04\n",
      "Epoch 39/100\n",
      "55/55 [==============================] - 4s 77ms/step - loss: 0.0084 - accuracy: 5.7571e-04\n",
      "Epoch 40/100\n",
      "55/55 [==============================] - 5s 87ms/step - loss: 0.0086 - accuracy: 5.7571e-04\n",
      "Epoch 41/100\n",
      "55/55 [==============================] - 4s 82ms/step - loss: 0.0087 - accuracy: 5.7571e-04\n",
      "Epoch 42/100\n",
      "55/55 [==============================] - 5s 93ms/step - loss: 0.0087 - accuracy: 5.7571e-04\n",
      "Epoch 43/100\n",
      "55/55 [==============================] - 4s 82ms/step - loss: 0.0084 - accuracy: 5.7571e-04\n",
      "Epoch 44/100\n",
      "55/55 [==============================] - 4s 74ms/step - loss: 0.0088 - accuracy: 5.7571e-04\n",
      "Epoch 45/100\n",
      "55/55 [==============================] - 4s 82ms/step - loss: 0.0083 - accuracy: 5.7571e-04\n",
      "Epoch 46/100\n",
      "55/55 [==============================] - 4s 77ms/step - loss: 0.0084 - accuracy: 5.7571e-04\n",
      "Epoch 47/100\n",
      "55/55 [==============================] - 4s 74ms/step - loss: 0.0085 - accuracy: 5.7571e-04\n",
      "Epoch 48/100\n",
      "55/55 [==============================] - 4s 80ms/step - loss: 0.0084 - accuracy: 5.7571e-04\n",
      "Epoch 49/100\n",
      "55/55 [==============================] - 5s 89ms/step - loss: 0.0080 - accuracy: 5.7571e-04\n",
      "Epoch 50/100\n",
      "55/55 [==============================] - 5s 84ms/step - loss: 0.0082 - accuracy: 5.7571e-04\n",
      "Epoch 51/100\n",
      "55/55 [==============================] - 5s 85ms/step - loss: 0.0082 - accuracy: 5.7571e-04\n",
      "Epoch 52/100\n",
      "55/55 [==============================] - 5s 86ms/step - loss: 0.0084 - accuracy: 5.7571e-04\n",
      "Epoch 53/100\n",
      "55/55 [==============================] - 5s 100ms/step - loss: 0.0082 - accuracy: 5.7571e-04\n",
      "Epoch 54/100\n",
      "55/55 [==============================] - 5s 83ms/step - loss: 0.0082 - accuracy: 5.7571e-04\n",
      "Epoch 55/100\n",
      "55/55 [==============================] - 4s 78ms/step - loss: 0.0084 - accuracy: 5.7571e-04\n",
      "Epoch 56/100\n",
      "55/55 [==============================] - 4s 81ms/step - loss: 0.0082 - accuracy: 5.7571e-04\n",
      "Epoch 57/100\n",
      "55/55 [==============================] - 5s 83ms/step - loss: 0.0085 - accuracy: 5.7571e-04\n",
      "Epoch 58/100\n",
      "55/55 [==============================] - 5s 99ms/step - loss: 0.0083 - accuracy: 5.7571e-04\n",
      "Epoch 59/100\n",
      "55/55 [==============================] - 4s 76ms/step - loss: 0.0081 - accuracy: 5.7571e-04\n",
      "Epoch 60/100\n",
      "55/55 [==============================] - 4s 72ms/step - loss: 0.0079 - accuracy: 5.7571e-04\n",
      "Epoch 61/100\n",
      "55/55 [==============================] - 4s 71ms/step - loss: 0.0082 - accuracy: 5.7571e-04\n",
      "Epoch 62/100\n",
      "55/55 [==============================] - 5s 85ms/step - loss: 0.0084 - accuracy: 5.7571e-04\n",
      "Epoch 63/100\n",
      "55/55 [==============================] - 4s 77ms/step - loss: 0.0083 - accuracy: 5.7571e-04\n",
      "Epoch 64/100\n",
      "55/55 [==============================] - 4s 70ms/step - loss: 0.0084 - accuracy: 5.7571e-04\n",
      "Epoch 65/100\n",
      "55/55 [==============================] - 4s 68ms/step - loss: 0.0080 - accuracy: 5.7571e-04\n",
      "Epoch 66/100\n",
      "55/55 [==============================] - 4s 68ms/step - loss: 0.0081 - accuracy: 5.7571e-04\n",
      "Epoch 67/100\n",
      "55/55 [==============================] - 5s 95ms/step - loss: 0.0082 - accuracy: 5.7571e-04\n",
      "Epoch 68/100\n",
      "55/55 [==============================] - 5s 93ms/step - loss: 0.0081 - accuracy: 5.7571e-04\n",
      "Epoch 69/100\n",
      "55/55 [==============================] - 5s 84ms/step - loss: 0.0082 - accuracy: 5.7571e-04\n",
      "Epoch 70/100\n",
      "55/55 [==============================] - 5s 83ms/step - loss: 0.0080 - accuracy: 5.7571e-04\n",
      "Epoch 71/100\n",
      "55/55 [==============================] - 5s 88ms/step - loss: 0.0084 - accuracy: 5.7571e-04\n",
      "Epoch 72/100\n",
      "55/55 [==============================] - 5s 82ms/step - loss: 0.0080 - accuracy: 5.7571e-04\n",
      "Epoch 73/100\n",
      "55/55 [==============================] - 5s 85ms/step - loss: 0.0082 - accuracy: 5.7571e-04\n",
      "Epoch 74/100\n",
      "55/55 [==============================] - 5s 84ms/step - loss: 0.0079 - accuracy: 5.7571e-04\n",
      "Epoch 75/100\n",
      "55/55 [==============================] - 4s 78ms/step - loss: 0.0084 - accuracy: 5.7571e-04\n",
      "Epoch 76/100\n",
      "55/55 [==============================] - 4s 79ms/step - loss: 0.0080 - accuracy: 5.7571e-04\n",
      "Epoch 77/100\n",
      "55/55 [==============================] - 4s 77ms/step - loss: 0.0078 - accuracy: 5.7571e-04\n",
      "Epoch 78/100\n",
      "55/55 [==============================] - 4s 79ms/step - loss: 0.0078 - accuracy: 5.7571e-04\n",
      "Epoch 79/100\n"
     ]
    },
    {
     "name": "stdout",
     "output_type": "stream",
     "text": [
      "55/55 [==============================] - 4s 68ms/step - loss: 0.0082 - accuracy: 5.7571e-04\n",
      "Epoch 80/100\n",
      "55/55 [==============================] - 4s 66ms/step - loss: 0.0083 - accuracy: 5.7571e-04\n",
      "Epoch 81/100\n",
      "55/55 [==============================] - 4s 73ms/step - loss: 0.0082 - accuracy: 5.7571e-04\n",
      "Epoch 82/100\n",
      "55/55 [==============================] - 4s 72ms/step - loss: 0.0083 - accuracy: 5.7571e-04\n",
      "Epoch 83/100\n",
      "55/55 [==============================] - 4s 67ms/step - loss: 0.0081 - accuracy: 5.7571e-04\n",
      "Epoch 84/100\n",
      "55/55 [==============================] - 4s 72ms/step - loss: 0.0082 - accuracy: 5.7571e-04\n",
      "Epoch 85/100\n",
      "55/55 [==============================] - 4s 73ms/step - loss: 0.0078 - accuracy: 5.7571e-04\n",
      "Epoch 86/100\n",
      "55/55 [==============================] - 4s 67ms/step - loss: 0.0079 - accuracy: 5.7571e-04\n",
      "Epoch 87/100\n",
      "55/55 [==============================] - 4s 74ms/step - loss: 0.0080 - accuracy: 5.7571e-04\n",
      "Epoch 88/100\n",
      "55/55 [==============================] - 4s 80ms/step - loss: 0.0079 - accuracy: 5.7571e-04\n",
      "Epoch 89/100\n",
      "55/55 [==============================] - 4s 79ms/step - loss: 0.0077 - accuracy: 5.7571e-04\n",
      "Epoch 90/100\n",
      "55/55 [==============================] - 4s 76ms/step - loss: 0.0081 - accuracy: 5.7571e-04\n",
      "Epoch 91/100\n",
      "55/55 [==============================] - 4s 76ms/step - loss: 0.0081 - accuracy: 5.7571e-04\n",
      "Epoch 92/100\n",
      "55/55 [==============================] - 5s 82ms/step - loss: 0.0085 - accuracy: 5.7571e-04\n",
      "Epoch 93/100\n",
      "55/55 [==============================] - 5s 94ms/step - loss: 0.0080 - accuracy: 5.7571e-04\n",
      "Epoch 94/100\n",
      "55/55 [==============================] - 4s 72ms/step - loss: 0.0085 - accuracy: 5.7571e-04\n",
      "Epoch 95/100\n",
      "55/55 [==============================] - 4s 75ms/step - loss: 0.0077 - accuracy: 5.7571e-04\n",
      "Epoch 96/100\n",
      "55/55 [==============================] - 4s 69ms/step - loss: 0.0078 - accuracy: 5.7571e-04\n",
      "Epoch 97/100\n",
      "55/55 [==============================] - 3s 61ms/step - loss: 0.0076 - accuracy: 5.7571e-04\n",
      "Epoch 98/100\n",
      "55/55 [==============================] - 4s 71ms/step - loss: 0.0083 - accuracy: 5.7571e-04\n",
      "Epoch 99/100\n",
      "55/55 [==============================] - 5s 92ms/step - loss: 0.0076 - accuracy: 5.7571e-04\n",
      "Epoch 100/100\n",
      "55/55 [==============================] - 4s 81ms/step - loss: 0.0078 - accuracy: 5.7571e-04\n"
     ]
    },
    {
     "data": {
      "text/plain": [
       "<tensorflow.python.keras.callbacks.History at 0x7fac8c29b9d0>"
      ]
     },
     "execution_count": 19,
     "metadata": {},
     "output_type": "execute_result"
    }
   ],
   "source": [
    "model = Sequential()\n",
    "\n",
    "model.add(LSTM(units = 12, return_sequences = True, input_shape = (X_train.shape[1], 1)))\n",
    "model.add(Dropout(0.2))\n",
    "\n",
    "model.add(LSTM(units = 12, return_sequences = False))\n",
    "model.add(Dropout(0.2))\n",
    "\n",
    "model.add(Dense(units = 1))\n",
    "\n",
    "\n",
    "model.compile(loss='mean_absolute_error', optimizer='adam', metrics=['accuracy'])\n",
    "\n",
    "model.fit(X_train, y_train, epochs = 100, batch_size = 32)"
   ]
  },
  {
   "cell_type": "code",
   "execution_count": 21,
   "metadata": {},
   "outputs": [
    {
     "name": "stdout",
     "output_type": "stream",
     "text": [
      "(2493, 24, 1)\n"
     ]
    }
   ],
   "source": [
    "total_len = open_price.shape[0]\n",
    "actual_values = open_price[LOOKBACK:]\n",
    "inputs = open_price.reshape(-1,1)\n",
    "inputs = sc.transform(inputs)\n",
    "X_test = []\n",
    "for i in range(LOOKBACK, total_len):\n",
    "    X_test.append(inputs[i-LOOKBACK:i, 0])\n",
    "X_test = np.array(X_test)\n",
    "X_test = np.reshape(X_test, (X_test.shape[0], X_test.shape[1], 1))\n",
    "print(X_test.shape)"
   ]
  },
  {
   "cell_type": "code",
   "execution_count": 27,
   "metadata": {},
   "outputs": [],
   "source": [
    "predicted_stock_price = model.predict(X_test)\n",
    "predicted_stock_price = sc.inverse_transform(predicted_stock_price)"
   ]
  },
  {
   "cell_type": "code",
   "execution_count": 29,
   "metadata": {},
   "outputs": [
    {
     "data": {
      "image/png": "[encoded data removed]",
      "text/plain": [
       "<Figure size 1152x432 with 1 Axes>"
      ]
     },
     "metadata": {
      "needs_background": "light"
     },
     "output_type": "display_data"
    }
   ],
   "source": [
    "plt.figure(figsize=(16,6))\n",
    "plt.plot(df.loc[LOOKBACK:, \"Date\"], actual_values, color = \"red\", label = \"Real Stock Price\")\n",
    "plt.plot(df.loc[LOOKBACK:, \"Date\"], predicted_stock_price, color = \"blue\", label = \"Predicted Stock Price\")\n",
    "plt.xticks(np.arange(0,459,50))\n",
    "plt.title('Stock Price Prediction')\n",
    "plt.xlabel('Time')\n",
    "plt.ylabel('Stock Price')\n",
    "plt.legend()\n",
    "plt.show()"
   ]
  },
  {
   "cell_type": "code",
   "execution_count": 30,
   "metadata": {},
   "outputs": [],
   "source": [
    "model.save('./model.h5')"
   ]
  },
  {
   "cell_type": "code",
   "execution_count": null,
   "metadata": {},
   "outputs": [],
   "source": []
  }
 ],
 "metadata": {
  "kernelspec": {
   "display_name": "Python 3",
   "language": "python",
   "name": "python3"
  },
  "language_info": {
   "codemirror_mode": {
    "name": "ipython",
    "version": 3
   },
   "file_extension": ".py",
   "mimetype": "text/x-python",
   "name": "python",
   "nbconvert_exporter": "python",
   "pygments_lexer": "ipython3",
   "version": "3.8.3"
  }
 },
 "nbformat": 4,
 "nbformat_minor": 4
}
